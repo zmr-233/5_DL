{
 "cells": [
  {
   "cell_type": "markdown",
   "metadata": {},
   "source": [
    "##  动手学深度学习"
   ]
  },
  {
   "cell_type": "markdown",
   "metadata": {},
   "source": [
    "##### 基本框架\n",
    "![目录结构](https://zh.d2l.ai/_images/book-org.svg)"
   ]
  },
  {
   "cell_type": "markdown",
   "metadata": {},
   "source": [
    "##### 安装：\n",
    "1. Pytorch--官网安装 \n",
    "2. 安装d2l包\n",
    "\n",
    "##### 全局符号表\n",
    "[符号查询](https://zh.d2l.ai/chapter_notation/index.html)"
   ]
  }
 ],
 "metadata": {
  "kernelspec": {
   "display_name": "2T_PY311",
   "language": "python",
   "name": "python3"
  },
  "language_info": {
   "codemirror_mode": {
    "name": "ipython",
    "version": 3
   },
   "file_extension": ".py",
   "mimetype": "text/x-python",
   "name": "python",
   "nbconvert_exporter": "python",
   "pygments_lexer": "ipython3",
   "version": "3.11.5"
  }
 },
 "nbformat": 4,
 "nbformat_minor": 2
}
